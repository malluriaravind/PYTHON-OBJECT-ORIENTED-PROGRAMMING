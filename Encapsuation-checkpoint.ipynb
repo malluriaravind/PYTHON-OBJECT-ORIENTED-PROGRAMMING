{
 "cells": [
  {
   "cell_type": "markdown",
   "metadata": {},
   "source": [
    "# Encapsulation "
   ]
  },
  {
   "cell_type": "markdown",
   "metadata": {},
   "source": [
    "#### 1. PROCESS OF RESTRICTING ACCESS TO METHODS AND VARIABLES TO PREVENT DIRECT DATA MODIFICATION."
   ]
  },
  {
   "cell_type": "markdown",
   "metadata": {},
   "source": [
    "#### 2.PUBLIC VARIABLES AND METHODS ARE ACCESSIBLE FROM ANYWHERE FROM THE PROGRAM."
   ]
  },
  {
   "cell_type": "markdown",
   "metadata": {},
   "source": [
    "#### 3. PRIVATE VARIABLES AND METHODS ARE ACCESSIBLE FROM THEIR OWN CLASS."
   ]
  },
  {
   "cell_type": "markdown",
   "metadata": {},
   "source": [
    "#### 4. IN PYTHON DOUBLE UNDERSCORE PREFIX BEFORE OBJECT NAME MAKES IT PRIVATE"
   ]
  },
  {
   "cell_type": "code",
   "execution_count": 6,
   "metadata": {},
   "outputs": [
    {
     "name": "stdout",
     "output_type": "stream",
     "text": [
      "850\n"
     ]
    }
   ],
   "source": [
    "class Cars:\n",
    "    def __init__(self,speed,color):\n",
    "        self.speed=speed\n",
    "        self.color=color\n",
    "    def set_speed(self,value):\n",
    "        self.speed=value\n",
    "    def get_speed(self):\n",
    "        return self.speed\n",
    "Ford=Cars(750,'GREEN')\n",
    "Nissan=Cars(800,'Purple')\n",
    "Toyota=Cars(900,'White')\n",
    "Ford.set_speed(800)\n",
    "Ford.speed=850\n",
    "print(Ford.get_speed())"
   ]
  },
  {
   "cell_type": "markdown",
   "metadata": {},
   "source": [
    "#### 5. ADDING ENCAPSULATION TO PREVENT THE DIRECT DATA MODIFICATION, FOR THAT WE WANT TO MAKE ALL THE VARIABLES TO PRIVATE THAT CANNOT BE ACCESSED OUTSIDE THE CLASS DIRECTLY."
   ]
  },
  {
   "cell_type": "markdown",
   "metadata": {},
   "source": [
    "#### 6. IN PYTHON DOUBLE UNDERSCORE PREFIX BEFORE OBJECT NAME MAKES IT PRIVATE"
   ]
  },
  {
   "cell_type": "markdown",
   "metadata": {},
   "source": [
    "#### 7. HERE SET METHOD IS USED TO SET THE VALUE OF THE VARIABLE AND GET METHOD IS USED TO GET THE VALUE OF VARIABLE"
   ]
  },
  {
   "cell_type": "code",
   "execution_count": 9,
   "metadata": {},
   "outputs": [
    {
     "name": "stdout",
     "output_type": "stream",
     "text": [
      "900\n",
      "GREY\n"
     ]
    }
   ],
   "source": [
    "class Cars:\n",
    "    def __init__(self,speed,color):\n",
    "        self.__speed=speed\n",
    "        self.__color=color\n",
    "    def set_speed(self,value):\n",
    "        self.__speed=value\n",
    "    def set_color(self,value):\n",
    "        self.__color=value\n",
    "    def get_speed(self):\n",
    "        return self.__speed\n",
    "    def get_color(self):\n",
    "        return self.__color\n",
    "Ford=Cars(750,'GREEN')\n",
    "Nissan=Cars(800,'Purple')\n",
    "Toyota=Cars(850,'White')\n",
    "Ford.set_speed(900)\n",
    "Ford.set_color('GREY')\n",
    "Ford.speed=950\n",
    "Ford.color='BLUE'\n",
    "print(Ford.get_speed())\n",
    "print(Ford.get_color())"
   ]
  }
 ],
 "metadata": {
  "kernelspec": {
   "display_name": "Python 3",
   "language": "python",
   "name": "python3"
  },
  "language_info": {
   "codemirror_mode": {
    "name": "ipython",
    "version": 3
   },
   "file_extension": ".py",
   "mimetype": "text/x-python",
   "name": "python",
   "nbconvert_exporter": "python",
   "pygments_lexer": "ipython3",
   "version": "3.8.3"
  }
 },
 "nbformat": 4,
 "nbformat_minor": 4
}
