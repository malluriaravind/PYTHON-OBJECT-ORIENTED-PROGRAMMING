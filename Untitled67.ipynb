{
 "cells": [
  {
   "cell_type": "markdown",
   "metadata": {},
   "source": [
    "# Python Object Oriented Programming "
   ]
  },
  {
   "cell_type": "markdown",
   "metadata": {},
   "source": [
    "### Python is a multi-paradigm programming language. It supports different programming approaches. "
   ]
  },
  {
   "cell_type": "markdown",
   "metadata": {},
   "source": [
    "### The concept of OOP in Python focuses on creating reusable code. This concept is also known as DRY (Don't Repeat Yourself).\n",
    "\n"
   ]
  },
  {
   "cell_type": "markdown",
   "metadata": {},
   "source": [
    "### Creating and  instiantiating classes"
   ]
  },
  {
   "cell_type": "markdown",
   "metadata": {},
   "source": [
    "1.  They logically group our data and functions in a way that's easy to reuse and also easy to build upon if need be"
   ]
  },
  {
   "cell_type": "markdown",
   "metadata": {},
   "source": [
    "2. when we say data and functions that are associated with specific class, we call those as attributes and methods. "
   ]
  },
  {
   "cell_type": "markdown",
   "metadata": {},
   "source": [
    "Eg: If we have a college and we wanted to represent students in our python code.This would be a great use case for a class because each individual student is going to have specific attributes and methods."
   ]
  },
  {
   "cell_type": "markdown",
   "metadata": {},
   "source": [
    "1. For example each student is going to have name and email address and fee and also actions they can perform."
   ]
  },
  {
   "cell_type": "markdown",
   "metadata": {},
   "source": [
    "2. It would be nice if we had a class that we could use as a blueprint to create each student so that we didn't have to do this manually each time from scratch."
   ]
  },
  {
   "cell_type": "code",
   "execution_count": 15,
   "metadata": {},
   "outputs": [],
   "source": [
    "# now we have a simple student class with no attributes and methods.\n",
    "class Student:\n",
    "    pass"
   ]
  },
  {
   "cell_type": "markdown",
   "metadata": {},
   "source": [
    "#### Difference between class and Instance of a class.\n"
   ]
  },
  {
   "cell_type": "markdown",
   "metadata": {},
   "source": [
    "1. Class is basically a blueprint for creating instances\n",
    "2. Each unique Student that we create using our Student class will be an instance of that class."
   ]
  },
  {
   "cell_type": "code",
   "execution_count": 16,
   "metadata": {},
   "outputs": [],
   "source": [
    "class Student:\n",
    "    pass\n",
    "# these are going to be there own unique instance of student class\n",
    "stu1=Student()\n",
    "stu2=Student()"
   ]
  },
  {
   "cell_type": "code",
   "execution_count": 17,
   "metadata": {},
   "outputs": [
    {
     "name": "stdout",
     "output_type": "stream",
     "text": [
      "<__main__.Student object at 0x000001EB9D621CA0>\n",
      "<__main__.Student object at 0x000001EB9D621B80>\n"
     ]
    }
   ],
   "source": [
    "class Student:\n",
    "    pass\n",
    "stu1=Student()\n",
    "stu2=Student()\n",
    "print(stu1)\n",
    "print(stu2)\n",
    "# Both of these are student objects and both are unique and they both have different locations here in memory now."
   ]
  },
  {
   "cell_type": "markdown",
   "metadata": {},
   "source": [
    "#### Instance variables - Instance variables contain data that is unique to each instance"
   ]
  },
  {
   "cell_type": "code",
   "execution_count": 18,
   "metadata": {},
   "outputs": [
    {
     "name": "stdout",
     "output_type": "stream",
     "text": [
      "aravind.reddy@company.com\n",
      "rahul.krishna@company.com\n"
     ]
    }
   ],
   "source": [
    "# now we manually create instance variables for each student by doing like this\n",
    "class Student:\n",
    "    pass\n",
    "stu1=Student()\n",
    "stu2=Student()\n",
    "\n",
    "stu1.first='aravind'\n",
    "stu1.last='reddy'\n",
    "stu1.email='aravind.reddy@company.com'\n",
    "stu1.fee=100000\n",
    "\n",
    "stu2.first='rahul'\n",
    "stu2.last='krishna'\n",
    "stu2.email='rahul.krishna@company.com'\n",
    "stu2.fee=100000\n",
    "print(stu1.email)\n",
    "print(stu2.email)"
   ]
  },
  {
   "cell_type": "code",
   "execution_count": 19,
   "metadata": {},
   "outputs": [
    {
     "name": "stdout",
     "output_type": "stream",
     "text": [
      "aravind.reddy@company.com\n",
      "rahul.reddy@company.com\n"
     ]
    }
   ],
   "source": [
    "# now inside of our student class i am going to create special init method \n",
    "class Student:\n",
    "    # when we create a method with in a class they receive the instance as the first argument automatically and by convention. We should call the instance as the self.\n",
    "    # after the self we can specify what are the arguments that we want to accept\n",
    "    def __init__(self,first,last,pay):\n",
    "        self.first=first\n",
    "        self.last=last\n",
    "        self.pay=pay\n",
    "        self.email=first+'.'+last+'@company.com'  \n",
    "# pass the values specified in the init method, now our method takes the instance which we call as self and the firstname, last and pay as argument.\n",
    "# but when we create student the instance is automatically passed \n",
    "stu1=Student('aravind','reddy',100000) # when we create this student the init method runs automatically, stud1 will be passes in as self and then it will set all of these attributes.\n",
    "stu2=Student('rahul','reddy',80000)\n",
    "print(stu1.email)\n",
    "print(stu2.email)"
   ]
  }
 ],
 "metadata": {
  "kernelspec": {
   "display_name": "Python 3",
   "language": "python",
   "name": "python3"
  },
  "language_info": {
   "codemirror_mode": {
    "name": "ipython",
    "version": 3
   },
   "file_extension": ".py",
   "mimetype": "text/x-python",
   "name": "python",
   "nbconvert_exporter": "python",
   "pygments_lexer": "ipython3",
   "version": "3.8.3"
  }
 },
 "nbformat": 4,
 "nbformat_minor": 4
}
